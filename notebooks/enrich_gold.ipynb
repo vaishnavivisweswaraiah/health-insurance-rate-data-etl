{
 "cells": [
  {
   "cell_type": "markdown",
   "id": "461d7f53",
   "metadata": {},
   "source": [
    "### Imports"
   ]
  },
  {
   "cell_type": "code",
   "execution_count": null,
   "id": "25f6d138",
   "metadata": {},
   "outputs": [],
   "source": [
    "import os\n",
    "import sys\n",
    "import json\n",
    "from datetime import datetime\n",
    "import pyspark.sql.functions as fun"
   ]
  },
  {
   "cell_type": "code",
   "execution_count": null,
   "id": "fce92a35",
   "metadata": {},
   "outputs": [],
   "source": [
    "sys.path.append(os.path.abspath('..'))  # adds the parent folder to sys.path\n",
    "from src.utils import dataframe_utils\n",
    "from src.utils.path_utils import find_project_root,Path"
   ]
  },
  {
   "cell_type": "markdown",
   "id": "a6bc96f5",
   "metadata": {},
   "source": [
    "### Configurations and Parameters"
   ]
  },
  {
   "cell_type": "code",
   "execution_count": null,
   "id": "30e46b6f",
   "metadata": {
    "tags": [
     "parameters"
    ]
   },
   "outputs": [],
   "source": [
    "# parameters\n",
    "base_dir='../'\n",
    "config_path=None"
   ]
  },
  {
   "cell_type": "code",
   "execution_count": null,
   "id": "5ae3a2bc",
   "metadata": {},
   "outputs": [],
   "source": [
    "\n",
    "if config_path is not None:\n",
    "    BASE_DIR = Path(base_dir)\n",
    "    config_path\n",
    "else:\n",
    "    # fallback: find project root and load config.json\n",
    "    BASE_DIR = find_project_root()\n",
    "    config_path = BASE_DIR / 'configurations' / 'config.json'\n",
    "\n",
    "with open(config_path, 'r', encoding='utf-8') as f:\n",
    "    config = json.load(f)\n",
    "\n",
    "print(f\"Loaded config from {config_path}\")"
   ]
  },
  {
   "cell_type": "code",
   "execution_count": null,
   "id": "df7c6e2b",
   "metadata": {},
   "outputs": [],
   "source": [
    "downloaded_file_name='Rate_PUF.csv'\n",
    "silver_path = os.path.join(BASE_DIR,config[\"silver_parquet_path\"], downloaded_file_name.split('.')[0])\n",
    "gold_path = os.path.join(BASE_DIR,config[\"gold_parquet_path\"], downloaded_file_name.split('.')[0])"
   ]
  },
  {
   "cell_type": "markdown",
   "id": "5023b6d5",
   "metadata": {},
   "source": [
    "### Gold layer transformation\n",
    "#### combining all columns into single column "
   ]
  },
  {
   "cell_type": "code",
   "execution_count": null,
   "id": "948841c5",
   "metadata": {},
   "outputs": [],
   "source": [
    "gold_rates_df=dataframe_utils.read_data_spark(file_path=silver_path,\n",
    "                                              file_format='parquet',\n",
    "                                              header=True,\n",
    "                                              inferSchema=True)\n",
    "gold_rates_df.printSchema()"
   ]
  },
  {
   "cell_type": "code",
   "execution_count": null,
   "id": "fe5f20ce",
   "metadata": {},
   "outputs": [],
   "source": [
    "columns_to_use = [col for col in gold_rates_df.columns if col != \"ImportDate\"]\n",
    "\n",
    "# Build full_text expression safely with explicit string casting\n",
    "full_text_expr = fun.concat_ws(\" | \", *[\n",
    "                                        fun.concat(fun.lit(f\"{col_name}: \"), \n",
    "                                        fun.coalesce(fun.col(col_name).cast(\"string\"), fun.lit(\"\")))\n",
    "                                        for col_name in columns_to_use\n",
    "                            ])\n",
    "\n",
    "gold_rates_df = gold_rates_df.withColumn(\"full_text\", full_text_expr)\n",
    "gold_rates_df = gold_rates_df.withColumn(\"row_id\", fun.monotonically_increasing_id()).orderBy(\"row_id\")"
   ]
  },
  {
   "cell_type": "code",
   "execution_count": null,
   "id": "676728f5",
   "metadata": {},
   "outputs": [],
   "source": [
    "# save as Gold dataset as both parquet\n",
    "\n",
    "dataframe_utils.write_data_spark(file_path=gold_path,\n",
    "                                file_format='parquet',\n",
    "                                df=gold_rates_df.coalesce(8),  # Adjust 8 to a lower number if needed or any heap memory issues,\n",
    "                                mode='overwrite',\n",
    "                                partition_by=['ImportDate','StateCode','Age'],\n",
    "                                header=True)\n",
    "\n",
    "print(f\"Saved Gold parquet at {gold_path}\")"
   ]
  }
 ],
 "metadata": {
  "kernelspec": {
   "display_name": "hinsurance-etl",
   "language": "python",
   "name": "python3"
  },
  "language_info": {
   "codemirror_mode": {
    "name": "ipython",
    "version": 3
   },
   "file_extension": ".py",
   "mimetype": "text/x-python",
   "name": "python",
   "nbconvert_exporter": "python",
   "pygments_lexer": "ipython3",
   "version": "3.10.18"
  }
 },
 "nbformat": 4,
 "nbformat_minor": 5
}
