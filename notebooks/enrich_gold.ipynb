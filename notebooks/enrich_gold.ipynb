{
 "cells": [
  {
   "cell_type": "markdown",
   "id": "461d7f53",
   "metadata": {},
   "source": [
    "### Imports"
   ]
  },
  {
   "cell_type": "code",
   "execution_count": 1,
   "id": "25f6d138",
   "metadata": {},
   "outputs": [],
   "source": [
    "import os\n",
    "import sys\n",
    "import json\n",
    "from datetime import datetime\n",
    "import pyspark.sql.functions as fun"
   ]
  },
  {
   "cell_type": "code",
   "execution_count": 2,
   "id": "fce92a35",
   "metadata": {},
   "outputs": [
    {
     "name": "stderr",
     "output_type": "stream",
     "text": [
      "Setting default log level to \"WARN\".\n",
      "To adjust logging level use sc.setLogLevel(newLevel). For SparkR, use setLogLevel(newLevel).\n",
      "25/06/16 15:44:08 WARN NativeCodeLoader: Unable to load native-hadoop library for your platform... using builtin-java classes where applicable\n",
      "25/06/16 15:44:10 WARN Utils: Service 'SparkUI' could not bind on port 4040. Attempting port 4041.\n"
     ]
    }
   ],
   "source": [
    "sys.path.append(os.path.abspath('..'))  # adds the parent folder to sys.path\n",
    "from src.utils import dataframe_utils\n",
    "from src.utils.path_utils import find_project_root,Path"
   ]
  },
  {
   "cell_type": "markdown",
   "id": "a6bc96f5",
   "metadata": {},
   "source": [
    "### Configurations and Parameters"
   ]
  },
  {
   "cell_type": "code",
   "execution_count": 3,
   "id": "30e46b6f",
   "metadata": {
    "tags": [
     "parameters"
    ]
   },
   "outputs": [],
   "source": [
    "# parameters\n",
    "base_dir='../'\n",
    "config_path=None"
   ]
  },
  {
   "cell_type": "code",
   "execution_count": 4,
   "id": "5ae3a2bc",
   "metadata": {},
   "outputs": [
    {
     "name": "stdout",
     "output_type": "stream",
     "text": [
      "Loaded config from /Users/vaishnavi/Desktop/Research/DataEngineering/health-insurance-rate-data-etl/configurations/config.json\n"
     ]
    }
   ],
   "source": [
    "\n",
    "if config_path is not None:\n",
    "    BASE_DIR = Path(base_dir)\n",
    "    config_path\n",
    "else:\n",
    "    # fallback: find project root and load config.json\n",
    "    BASE_DIR = find_project_root()\n",
    "    config_path = BASE_DIR / 'configurations' / 'config.json'\n",
    "\n",
    "with open(config_path, 'r', encoding='utf-8') as f:\n",
    "    config = json.load(f)\n",
    "\n",
    "print(f\"Loaded config from {config_path}\")"
   ]
  },
  {
   "cell_type": "code",
   "execution_count": 5,
   "id": "df7c6e2b",
   "metadata": {},
   "outputs": [],
   "source": [
    "downloaded_file_name='Rate_PUF.csv'\n",
    "silver_path = os.path.join(BASE_DIR,config[\"silver_parquet_path\"], downloaded_file_name.split('.')[0])\n",
    "gold_path = os.path.join(BASE_DIR,config[\"gold_parquet_path\"], downloaded_file_name.split('.')[0])"
   ]
  },
  {
   "cell_type": "markdown",
   "id": "5023b6d5",
   "metadata": {},
   "source": [
    "### Gold layer transformation\n",
    "#### combining all columns into single column "
   ]
  },
  {
   "cell_type": "code",
   "execution_count": 6,
   "id": "948841c5",
   "metadata": {},
   "outputs": [
    {
     "name": "stderr",
     "output_type": "stream",
     "text": [
      "                                                                                \r"
     ]
    },
    {
     "name": "stdout",
     "output_type": "stream",
     "text": [
      "root\n",
      " |-- BusinessYear: string (nullable = true)\n",
      " |-- IssuerId: string (nullable = true)\n",
      " |-- SourceName: string (nullable = true)\n",
      " |-- RateEffectiveDate: string (nullable = true)\n",
      " |-- RateExpirationDate: string (nullable = true)\n",
      " |-- PlanId: string (nullable = true)\n",
      " |-- RatingAreaId: string (nullable = true)\n",
      " |-- Tobacco: string (nullable = true)\n",
      " |-- IndividualRate: string (nullable = true)\n",
      " |-- IndividualTobaccoRate: string (nullable = true)\n",
      " |-- Couple: string (nullable = true)\n",
      " |-- PrimarySubscriberAndOneDependent: string (nullable = true)\n",
      " |-- PrimarySubscriberAndTwoDependents: string (nullable = true)\n",
      " |-- PrimarySubscriberAndThreeOrMoreDependents: string (nullable = true)\n",
      " |-- CoupleAndOneDependent: string (nullable = true)\n",
      " |-- CoupleAndTwoDependents: string (nullable = true)\n",
      " |-- CoupleAndThreeOrMoreDependents: string (nullable = true)\n",
      " |-- ImportDate: integer (nullable = true)\n",
      " |-- StateCode: string (nullable = true)\n",
      " |-- Age: string (nullable = true)\n",
      "\n"
     ]
    }
   ],
   "source": [
    "gold_rates_df=dataframe_utils.read_data_spark(file_path=silver_path,\n",
    "                                              file_format='parquet',\n",
    "                                              header=True,\n",
    "                                              inferSchema=True)\n",
    "gold_rates_df.printSchema()"
   ]
  },
  {
   "cell_type": "code",
   "execution_count": null,
   "id": "fe5f20ce",
   "metadata": {},
   "outputs": [
    {
     "name": "stderr",
     "output_type": "stream",
     "text": [
      "                                                                                \r"
     ]
    },
    {
     "name": "stdout",
     "output_type": "stream",
     "text": [
      "+------------+--------+----------+-----------------+------------------+--------------+--------------+--------------------+--------------+---------------------+------+--------------------------------+---------------------------------+-----------------------------------------+---------------------+----------------------+------------------------------+----------+---------+---+--------------------+------+\n",
      "|BusinessYear|IssuerId|SourceName|RateEffectiveDate|RateExpirationDate|        PlanId|  RatingAreaId|             Tobacco|IndividualRate|IndividualTobaccoRate|Couple|PrimarySubscriberAndOneDependent|PrimarySubscriberAndTwoDependents|PrimarySubscriberAndThreeOrMoreDependents|CoupleAndOneDependent|CoupleAndTwoDependents|CoupleAndThreeOrMoreDependents|ImportDate|StateCode|Age|           full_text|row_id|\n",
      "+------------+--------+----------+-----------------+------------------+--------------+--------------+--------------------+--------------+---------------------+------+--------------------------------+---------------------------------+-----------------------------------------+---------------------+----------------------+------------------------------+----------+---------+---+--------------------+------+\n",
      "|        2025|   48129|      HIOS|       2025-01-01|        2025-12-31|48129FL0080003| Rating Area 1|       No Preference|         37.36|                 null|  null|                            null|                             null|                                     null|                 null|                  null|                          null|  20250616|       FL| 62|BusinessYear: 202...|     0|\n",
      "|        2025|   30252|      HIOS|       2025-01-01|        2025-12-31|30252FL0140005|Rating Area 64|Tobacco User/Non-...|       1552.91|              1863.51|  null|                            null|                             null|                                     null|                 null|                  null|                          null|  20250616|       FL| 62|BusinessYear: 202...|     1|\n",
      "|        2025|   48129|      HIOS|       2025-01-01|        2025-12-31|48129FL0080003| Rating Area 2|       No Preference|         37.36|                 null|  null|                            null|                             null|                                     null|                 null|                  null|                          null|  20250616|       FL| 62|BusinessYear: 202...|     2|\n",
      "|        2025|   30252|      HIOS|       2025-01-01|        2025-12-31|30252FL0140005|Rating Area 66|Tobacco User/Non-...|       1170.09|              1404.09|  null|                            null|                             null|                                     null|                 null|                  null|                          null|  20250616|       FL| 62|BusinessYear: 202...|     3|\n",
      "|        2025|   48129|      HIOS|       2025-01-01|        2025-12-31|48129FL0080003| Rating Area 3|       No Preference|         37.36|                 null|  null|                            null|                             null|                                     null|                 null|                  null|                          null|  20250616|       FL| 62|BusinessYear: 202...|     4|\n",
      "+------------+--------+----------+-----------------+------------------+--------------+--------------+--------------------+--------------+---------------------+------+--------------------------------+---------------------------------+-----------------------------------------+---------------------+----------------------+------------------------------+----------+---------+---+--------------------+------+\n",
      "only showing top 5 rows\n",
      "\n"
     ]
    }
   ],
   "source": [
    "columns_to_use = [col for col in gold_rates_df.columns if col != \"ImportDate\"]\n",
    "\n",
    "# Build full_text expression safely with explicit string casting\n",
    "full_text_expr = fun.concat_ws(\" | \", *[\n",
    "                                        fun.concat(fun.lit(f\"{col_name}: \"), \n",
    "                                        fun.coalesce(fun.col(col_name).cast(\"string\"), fun.lit(\"\")))\n",
    "                                        for col_name in columns_to_use\n",
    "                            ])\n",
    "\n",
    "gold_rates_df = gold_rates_df.withColumn(\"full_text\", full_text_expr)\n",
    "gold_rates_df = gold_rates_df.withColumn(\"row_id\", fun.monotonically_increasing_id()).orderBy(\"row_id\")"
   ]
  },
  {
   "cell_type": "code",
   "execution_count": 8,
   "id": "676728f5",
   "metadata": {},
   "outputs": [
    {
     "name": "stderr",
     "output_type": "stream",
     "text": [
      "25/06/16 15:46:37 WARN MemoryManager: Total allocation exceeds 95.00% (1,020,054,720 bytes) of heap memory\n",
      "Scaling row group sizes to 95.00% for 8 writers\n",
      "25/06/16 15:46:38 WARN MemoryManager: Total allocation exceeds 95.00% (1,020,054,720 bytes) of heap memory\n",
      "Scaling row group sizes to 95.00% for 8 writers\n",
      "25/06/16 15:46:38 WARN MemoryManager: Total allocation exceeds 95.00% (1,020,054,720 bytes) of heap memory\n",
      "Scaling row group sizes to 95.00% for 8 writers\n",
      "25/06/16 15:46:38 WARN MemoryManager: Total allocation exceeds 95.00% (1,020,054,720 bytes) of heap memory\n",
      "Scaling row group sizes to 95.00% for 8 writers\n",
      "25/06/16 15:46:39 WARN MemoryManager: Total allocation exceeds 95.00% (1,020,054,720 bytes) of heap memory\n",
      "Scaling row group sizes to 95.00% for 8 writers\n",
      "25/06/16 15:46:40 WARN MemoryManager: Total allocation exceeds 95.00% (1,020,054,720 bytes) of heap memory\n",
      "Scaling row group sizes to 95.00% for 8 writers\n",
      "25/06/16 15:46:41 WARN MemoryManager: Total allocation exceeds 95.00% (1,020,054,720 bytes) of heap memory\n",
      "Scaling row group sizes to 95.00% for 8 writers\n",
      "25/06/16 15:46:41 WARN MemoryManager: Total allocation exceeds 95.00% (1,020,054,720 bytes) of heap memory\n",
      "Scaling row group sizes to 95.00% for 8 writers\n",
      "25/06/16 15:46:41 WARN MemoryManager: Total allocation exceeds 95.00% (1,020,054,720 bytes) of heap memory\n",
      "Scaling row group sizes to 95.00% for 8 writers\n",
      "25/06/16 15:46:43 WARN MemoryManager: Total allocation exceeds 95.00% (1,020,054,720 bytes) of heap memory\n",
      "Scaling row group sizes to 95.00% for 8 writers\n",
      "25/06/16 15:46:43 WARN MemoryManager: Total allocation exceeds 95.00% (1,020,054,720 bytes) of heap memory\n",
      "Scaling row group sizes to 95.00% for 8 writers\n",
      "25/06/16 15:46:43 WARN MemoryManager: Total allocation exceeds 95.00% (1,020,054,720 bytes) of heap memory\n",
      "Scaling row group sizes to 95.00% for 8 writers\n",
      "25/06/16 15:46:44 WARN MemoryManager: Total allocation exceeds 95.00% (1,020,054,720 bytes) of heap memory\n",
      "Scaling row group sizes to 95.00% for 8 writers\n",
      "25/06/16 15:46:44 WARN MemoryManager: Total allocation exceeds 95.00% (1,020,054,720 bytes) of heap memory\n",
      "Scaling row group sizes to 95.00% for 8 writers\n",
      "25/06/16 15:46:44 WARN MemoryManager: Total allocation exceeds 95.00% (1,020,054,720 bytes) of heap memory\n",
      "Scaling row group sizes to 95.00% for 8 writers\n",
      "25/06/16 15:46:45 WARN MemoryManager: Total allocation exceeds 95.00% (1,020,054,720 bytes) of heap memory\n",
      "Scaling row group sizes to 95.00% for 8 writers\n",
      "25/06/16 15:46:45 WARN MemoryManager: Total allocation exceeds 95.00% (1,020,054,720 bytes) of heap memory\n",
      "Scaling row group sizes to 95.00% for 8 writers\n",
      "25/06/16 15:46:46 WARN MemoryManager: Total allocation exceeds 95.00% (1,020,054,720 bytes) of heap memory\n",
      "Scaling row group sizes to 95.00% for 8 writers\n",
      "25/06/16 15:46:46 WARN MemoryManager: Total allocation exceeds 95.00% (1,020,054,720 bytes) of heap memory\n",
      "Scaling row group sizes to 95.00% for 8 writers\n",
      "25/06/16 15:46:47 WARN MemoryManager: Total allocation exceeds 95.00% (1,020,054,720 bytes) of heap memory\n",
      "Scaling row group sizes to 95.00% for 8 writers\n",
      "25/06/16 15:46:47 WARN MemoryManager: Total allocation exceeds 95.00% (1,020,054,720 bytes) of heap memory\n",
      "Scaling row group sizes to 95.00% for 8 writers\n",
      "25/06/16 15:46:47 WARN MemoryManager: Total allocation exceeds 95.00% (1,020,054,720 bytes) of heap memory\n",
      "Scaling row group sizes to 95.00% for 8 writers\n",
      "25/06/16 15:46:48 WARN MemoryManager: Total allocation exceeds 95.00% (1,020,054,720 bytes) of heap memory\n",
      "Scaling row group sizes to 95.00% for 8 writers\n",
      "25/06/16 15:46:49 WARN MemoryManager: Total allocation exceeds 95.00% (1,020,054,720 bytes) of heap memory\n",
      "Scaling row group sizes to 95.00% for 8 writers\n",
      "25/06/16 15:46:50 WARN MemoryManager: Total allocation exceeds 95.00% (1,020,054,720 bytes) of heap memory\n",
      "Scaling row group sizes to 95.00% for 8 writers\n",
      "25/06/16 15:46:50 WARN MemoryManager: Total allocation exceeds 95.00% (1,020,054,720 bytes) of heap memory\n",
      "Scaling row group sizes to 95.00% for 8 writers\n",
      "25/06/16 15:46:50 WARN MemoryManager: Total allocation exceeds 95.00% (1,020,054,720 bytes) of heap memory\n",
      "Scaling row group sizes to 95.00% for 8 writers\n",
      "25/06/16 15:46:51 WARN MemoryManager: Total allocation exceeds 95.00% (1,020,054,720 bytes) of heap memory\n",
      "Scaling row group sizes to 95.00% for 8 writers\n",
      "25/06/16 15:46:51 WARN MemoryManager: Total allocation exceeds 95.00% (1,020,054,720 bytes) of heap memory\n",
      "Scaling row group sizes to 95.00% for 8 writers\n",
      "25/06/16 15:46:51 WARN MemoryManager: Total allocation exceeds 95.00% (1,020,054,720 bytes) of heap memory\n",
      "Scaling row group sizes to 95.00% for 8 writers\n",
      "25/06/16 15:46:52 WARN MemoryManager: Total allocation exceeds 95.00% (1,020,054,720 bytes) of heap memory\n",
      "Scaling row group sizes to 95.00% for 8 writers\n",
      "25/06/16 15:46:53 WARN MemoryManager: Total allocation exceeds 95.00% (1,020,054,720 bytes) of heap memory\n",
      "Scaling row group sizes to 95.00% for 8 writers\n",
      "25/06/16 15:46:53 WARN MemoryManager: Total allocation exceeds 95.00% (1,020,054,720 bytes) of heap memory\n",
      "Scaling row group sizes to 95.00% for 8 writers\n",
      "25/06/16 15:46:54 WARN MemoryManager: Total allocation exceeds 95.00% (1,020,054,720 bytes) of heap memory\n",
      "Scaling row group sizes to 95.00% for 8 writers\n",
      "25/06/16 15:46:54 WARN MemoryManager: Total allocation exceeds 95.00% (1,020,054,720 bytes) of heap memory\n",
      "Scaling row group sizes to 95.00% for 8 writers\n",
      "25/06/16 15:46:55 WARN MemoryManager: Total allocation exceeds 95.00% (1,020,054,720 bytes) of heap memory\n",
      "Scaling row group sizes to 95.00% for 8 writers\n",
      "25/06/16 15:46:55 WARN MemoryManager: Total allocation exceeds 95.00% (1,020,054,720 bytes) of heap memory\n",
      "Scaling row group sizes to 95.00% for 8 writers\n",
      "25/06/16 15:46:56 WARN MemoryManager: Total allocation exceeds 95.00% (1,020,054,720 bytes) of heap memory\n",
      "Scaling row group sizes to 95.00% for 8 writers\n",
      "25/06/16 15:46:56 WARN MemoryManager: Total allocation exceeds 95.00% (1,020,054,720 bytes) of heap memory\n",
      "Scaling row group sizes to 95.00% for 8 writers\n",
      "25/06/16 15:46:57 WARN MemoryManager: Total allocation exceeds 95.00% (1,020,054,720 bytes) of heap memory\n",
      "Scaling row group sizes to 95.00% for 8 writers\n",
      "25/06/16 15:46:57 WARN MemoryManager: Total allocation exceeds 95.00% (1,020,054,720 bytes) of heap memory\n",
      "Scaling row group sizes to 95.00% for 8 writers\n",
      "25/06/16 15:46:57 WARN MemoryManager: Total allocation exceeds 95.00% (1,020,054,720 bytes) of heap memory\n",
      "Scaling row group sizes to 95.00% for 8 writers\n",
      "25/06/16 15:46:57 WARN MemoryManager: Total allocation exceeds 95.00% (1,020,054,720 bytes) of heap memory\n",
      "Scaling row group sizes to 95.00% for 8 writers\n",
      "25/06/16 15:46:58 WARN MemoryManager: Total allocation exceeds 95.00% (1,020,054,720 bytes) of heap memory\n",
      "Scaling row group sizes to 95.00% for 8 writers\n",
      "25/06/16 15:46:58 WARN MemoryManager: Total allocation exceeds 95.00% (1,020,054,720 bytes) of heap memory\n",
      "Scaling row group sizes to 95.00% for 8 writers\n",
      "25/06/16 15:47:00 WARN MemoryManager: Total allocation exceeds 95.00% (1,020,054,720 bytes) of heap memory\n",
      "Scaling row group sizes to 95.00% for 8 writers\n",
      "                                                                                \r"
     ]
    },
    {
     "name": "stdout",
     "output_type": "stream",
     "text": [
      "Saved Gold parquet at /Users/vaishnavi/Desktop/Research/DataEngineering/health-insurance-rate-data-etl/data/gold/Rate_PUF\n"
     ]
    }
   ],
   "source": [
    "# save as Gold dataset as both parquet\n",
    "\n",
    "dataframe_utils.write_data_spark(file_path=gold_path,\n",
    "                                file_format='parquet',\n",
    "                                df=gold_rates_df,\n",
    "                                mode='append',\n",
    "                                partition_by=['ImportDate','StateCode','Age'],\n",
    "                                header=True)\n",
    "\n",
    "print(f\"Saved Gold parquet at {gold_path}\")"
   ]
  }
 ],
 "metadata": {
  "kernelspec": {
   "display_name": "hinsurance-etl",
   "language": "python",
   "name": "python3"
  },
  "language_info": {
   "codemirror_mode": {
    "name": "ipython",
    "version": 3
   },
   "file_extension": ".py",
   "mimetype": "text/x-python",
   "name": "python",
   "nbconvert_exporter": "python",
   "pygments_lexer": "ipython3",
   "version": "3.10.18"
  }
 },
 "nbformat": 4,
 "nbformat_minor": 5
}
