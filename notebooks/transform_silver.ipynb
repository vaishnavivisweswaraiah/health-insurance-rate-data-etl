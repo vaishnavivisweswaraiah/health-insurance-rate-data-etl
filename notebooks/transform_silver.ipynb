{
 "cells": [
  {
   "cell_type": "markdown",
   "id": "b8f2566c",
   "metadata": {},
   "source": [
    "### Imports"
   ]
  },
  {
   "cell_type": "code",
   "execution_count": 11,
   "id": "adec87a2",
   "metadata": {},
   "outputs": [],
   "source": [
    "import os\n",
    "import sys\n",
    "import json\n",
    "from datetime import datetime\n",
    "import pyspark.sql.functions as fun"
   ]
  },
  {
   "cell_type": "code",
   "execution_count": 12,
   "id": "6dd4f6d0",
   "metadata": {},
   "outputs": [],
   "source": [
    "sys.path.append(os.path.abspath('..'))  # adds the parent folder to sys.path\n",
    "from src.utils import dataframe_utils\n",
    "from src.utils.path_utils import find_project_root,Path\n",
    "from src.utils.dataquality import data_quality_checks"
   ]
  },
  {
   "cell_type": "markdown",
   "id": "e2943b60",
   "metadata": {},
   "source": [
    "### Configuration and Parameters"
   ]
  },
  {
   "cell_type": "code",
   "execution_count": 3,
   "id": "1f9c135d",
   "metadata": {
    "tags": [
     "parameters"
    ]
   },
   "outputs": [],
   "source": [
    "# parameters\n",
    "base_dir='../'\n",
    "config_path=None"
   ]
  },
  {
   "cell_type": "code",
   "execution_count": 4,
   "id": "abf27d46",
   "metadata": {},
   "outputs": [
    {
     "name": "stdout",
     "output_type": "stream",
     "text": [
      "Loaded config from /Users/vaishnavi/Desktop/Research/DataEngineering/health-insurance-rate-data-etl/configurations/config.json\n"
     ]
    }
   ],
   "source": [
    "\n",
    "if config_path is not None:\n",
    "    BASE_DIR = Path(base_dir)\n",
    "    config_path\n",
    "else:\n",
    "    # fallback: find project root and load config.json\n",
    "    BASE_DIR = find_project_root()\n",
    "    config_path = BASE_DIR / 'configurations' / 'config.json'\n",
    "\n",
    "with open(config_path, 'r', encoding='utf-8') as f:\n",
    "    config = json.load(f)\n",
    "\n",
    "print(f\"Loaded config from {config_path}\")"
   ]
  },
  {
   "cell_type": "code",
   "execution_count": 5,
   "id": "16518aca",
   "metadata": {},
   "outputs": [],
   "source": [
    "downloaded_file_name='Rate_PUF.csv'\n",
    "raw_csv_path = os.path.join(BASE_DIR,config[\"download_dir\"], downloaded_file_name)\n",
    "silver_path = os.path.join(BASE_DIR,config[\"silver_parquet_path\"], downloaded_file_name.split('.')[0])"
   ]
  },
  {
   "cell_type": "markdown",
   "id": "1a6d553e",
   "metadata": {},
   "source": [
    "### Cleaning/Transformation"
   ]
  },
  {
   "cell_type": "code",
   "execution_count": 6,
   "id": "323822a0",
   "metadata": {},
   "outputs": [
    {
     "name": "stderr",
     "output_type": "stream",
     "text": [
      "                                                                                \r"
     ]
    }
   ],
   "source": [
    "# Read using PySpark\n",
    "read_df=dataframe_utils.read_data_spark(file_path=raw_csv_path,\n",
    "                                          file_format=\"csv\",\n",
    "                                          header=True,\n",
    "                                          inferSchema=True)"
   ]
  },
  {
   "cell_type": "code",
   "execution_count": 7,
   "id": "e2beb725",
   "metadata": {},
   "outputs": [],
   "source": [
    "# Convert all columns to string type\n",
    "rates_df = read_df.select([fun.col(c).cast(\"string\") for c in read_df.columns])\n",
    "\n",
    "# Fill all null values with empty strings\n",
    "silver_rates_df = rates_df.fillna(\"\")\n",
    "\n",
    "# Get today's date in YYYYMMDD format\n",
    "today_str = datetime.today().strftime(\"%Y%m%d\")\n",
    "\n",
    "# Add column with the same date for all rows\n",
    "silver_rates_df = rates_df.withColumn(\"ImportDate\", fun.lit(today_str))"
   ]
  },
  {
   "cell_type": "code",
   "execution_count": 8,
   "id": "157c1724",
   "metadata": {},
   "outputs": [
    {
     "name": "stderr",
     "output_type": "stream",
     "text": [
      "25/06/16 16:59:21 WARN MemoryManager: Total allocation exceeds 95.00% (1,020,054,720 bytes) of heap memory\n",
      "Scaling row group sizes to 95.00% for 8 writers\n",
      "                                                                                \r"
     ]
    },
    {
     "name": "stdout",
     "output_type": "stream",
     "text": [
      "Saved silver parquet at /Users/vaishnavi/Desktop/Research/DataEngineering/health-insurance-rate-data-etl/data/silver/Rate_PUF\n"
     ]
    }
   ],
   "source": [
    "# save as Silver dataset\n",
    "dataframe_utils.write_data_spark(file_path=silver_path,\n",
    "                                 file_format='parquet',\n",
    "                                 df=silver_rates_df,\n",
    "                                 mode='append',\n",
    "                                 partition_by=['ImportDate','StateCode','Age'],\n",
    "                                 header=True)\n",
    "\n",
    "print(f\"Saved silver parquet at {silver_path}\")"
   ]
  },
  {
   "cell_type": "markdown",
   "id": "268a6241",
   "metadata": {},
   "source": [
    "### Data Quality check"
   ]
  },
  {
   "cell_type": "code",
   "execution_count": 13,
   "id": "4e7e3f7c",
   "metadata": {},
   "outputs": [
    {
     "name": "stderr",
     "output_type": "stream",
     "text": [
      "                                                                                \r"
     ]
    },
    {
     "ename": "ValueError",
     "evalue": "Data Quality Checks Failed:\nColumn 'Tobacco' has 582 null or NaN values\nFound 1233945 rows with invalid Tobacco values",
     "output_type": "error",
     "traceback": [
      "\u001b[0;31m---------------------------------------------------------------------------\u001b[0m",
      "\u001b[0;31mValueError\u001b[0m                                Traceback (most recent call last)",
      "Cell \u001b[0;32mIn[13], line 1\u001b[0m\n\u001b[0;32m----> 1\u001b[0m \u001b[38;5;28;01mif\u001b[39;00m \u001b[43mdata_quality_checks\u001b[49m\u001b[43m(\u001b[49m\u001b[43msilver_rates_df\u001b[49m\u001b[43m)\u001b[49m:\n\u001b[1;32m      2\u001b[0m     \u001b[38;5;28mprint\u001b[39m(\u001b[38;5;124m\"\u001b[39m\u001b[38;5;124mAll Data Quality Checks Passed ✅\u001b[39m\u001b[38;5;124m\"\u001b[39m)\n",
      "File \u001b[0;32m~/Desktop/Research/DataEngineering/health-insurance-rate-data-etl/src/utils/dataquality.py:35\u001b[0m, in \u001b[0;36mdata_quality_checks\u001b[0;34m(df)\u001b[0m\n\u001b[1;32m     32\u001b[0m     errors\u001b[38;5;241m.\u001b[39mappend(\u001b[38;5;124mf\u001b[39m\u001b[38;5;124m\"\u001b[39m\u001b[38;5;124mFound \u001b[39m\u001b[38;5;132;01m{\u001b[39;00minvalid_tobacco\u001b[38;5;132;01m}\u001b[39;00m\u001b[38;5;124m rows with invalid Tobacco values\u001b[39m\u001b[38;5;124m\"\u001b[39m)\n\u001b[1;32m     34\u001b[0m \u001b[38;5;28;01mif\u001b[39;00m errors:\n\u001b[0;32m---> 35\u001b[0m     \u001b[38;5;28;01mraise\u001b[39;00m \u001b[38;5;167;01mValueError\u001b[39;00m(\u001b[38;5;124m\"\u001b[39m\u001b[38;5;124mData Quality Checks Failed:\u001b[39m\u001b[38;5;130;01m\\n\u001b[39;00m\u001b[38;5;124m\"\u001b[39m \u001b[38;5;241m+\u001b[39m \u001b[38;5;124m\"\u001b[39m\u001b[38;5;130;01m\\n\u001b[39;00m\u001b[38;5;124m\"\u001b[39m\u001b[38;5;241m.\u001b[39mjoin(errors))\n\u001b[1;32m     36\u001b[0m \u001b[38;5;28;01melse\u001b[39;00m:\n\u001b[1;32m     37\u001b[0m     \u001b[38;5;28mprint\u001b[39m(\u001b[38;5;124m\"\u001b[39m\u001b[38;5;124mAll Data Quality Checks Passed ✅\u001b[39m\u001b[38;5;124m\"\u001b[39m)\n",
      "\u001b[0;31mValueError\u001b[0m: Data Quality Checks Failed:\nColumn 'Tobacco' has 582 null or NaN values\nFound 1233945 rows with invalid Tobacco values"
     ]
    }
   ],
   "source": [
    "if data_quality_checks(silver_rates_df):\n",
    "    print(\"All Data Quality Checks Passed ✅\")\n",
    "    \n"
   ]
  },
  {
   "cell_type": "code",
   "execution_count": null,
   "id": "f37c26d9",
   "metadata": {},
   "outputs": [],
   "source": []
  }
 ],
 "metadata": {
  "kernelspec": {
   "display_name": "hinsurance-etl",
   "language": "python",
   "name": "python3"
  },
  "language_info": {
   "codemirror_mode": {
    "name": "ipython",
    "version": 3
   },
   "file_extension": ".py",
   "mimetype": "text/x-python",
   "name": "python",
   "nbconvert_exporter": "python",
   "pygments_lexer": "ipython3",
   "version": "3.10.18"
  }
 },
 "nbformat": 4,
 "nbformat_minor": 5
}
