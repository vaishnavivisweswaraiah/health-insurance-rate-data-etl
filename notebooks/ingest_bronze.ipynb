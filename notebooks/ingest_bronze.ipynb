{
 "cells": [
  {
   "cell_type": "markdown",
   "id": "3eaad92b",
   "metadata": {},
   "source": [
    "### Imports"
   ]
  },
  {
   "cell_type": "code",
   "execution_count": 54,
   "id": "74370226",
   "metadata": {},
   "outputs": [],
   "source": [
    "import os\n",
    "import sys\n",
    "import json\n",
    "from urllib.parse import urlparse\n",
    "\n"
   ]
  },
  {
   "cell_type": "code",
   "execution_count": 55,
   "id": "6e0f537f",
   "metadata": {},
   "outputs": [],
   "source": [
    "sys.path.append(os.path.abspath('..'))  # adds the parent folder to sys.path\n",
    "from src.utils import request_utils\n",
    "from src.utils.path_utils import find_project_root,Path"
   ]
  },
  {
   "cell_type": "markdown",
   "id": "463d6516",
   "metadata": {},
   "source": [
    "### Configurations"
   ]
  },
  {
   "cell_type": "code",
   "execution_count": 56,
   "id": "f5657300",
   "metadata": {
    "tags": [
     "parameters"
    ]
   },
   "outputs": [],
   "source": [
    "# parameters\n",
    "base_dir='../'\n",
    "config_path=None"
   ]
  },
  {
   "cell_type": "code",
   "execution_count": 57,
   "id": "3ec3a595",
   "metadata": {},
   "outputs": [
    {
     "name": "stdout",
     "output_type": "stream",
     "text": [
      "Loaded config from /Users/vaishnavi/Desktop/Research/DataEngineering/health-insurance-rate-data-etl/configurations/config.json\n"
     ]
    }
   ],
   "source": [
    "\n",
    "if config_path is not None:\n",
    "    BASE_DIR = Path(base_dir)\n",
    "    config_path\n",
    "else:\n",
    "    # fallback: find project root and load config.json\n",
    "    BASE_DIR = find_project_root()\n",
    "    config_path = BASE_DIR / 'configurations' / 'config.json'\n",
    "\n",
    "with open(config_path, 'r', encoding='utf-8') as f:\n",
    "    config = json.load(f)\n",
    "\n",
    "print(f\"Loaded config from {config_path}\")"
   ]
  },
  {
   "cell_type": "code",
   "execution_count": 58,
   "id": "8b3fef88",
   "metadata": {},
   "outputs": [],
   "source": [
    "config_data=request_utils.read_api_config(BASE_DIR/config['api_config_path'])\n",
    "rate_api_url=config_data['apis']['health_insurance_rate_puf']['endpoint']\n",
    "meta_data = request_utils.make_api_call(rate_api_url)\n",
    "with open(BASE_DIR/config['metadata_path'],'w') as meta_file:\n",
    "    json.dump(meta_data.json(),meta_file,indent=2)\n"
   ]
  },
  {
   "cell_type": "code",
   "execution_count": 59,
   "id": "9500bcc5",
   "metadata": {},
   "outputs": [
    {
     "data": {
      "text/plain": [
       "'https://data.healthcare.gov/datafile/py2025/Rate_PUF.csv'"
      ]
     },
     "execution_count": 59,
     "metadata": {},
     "output_type": "execute_result"
    }
   ],
   "source": [
    "# extract download link and format \n",
    "with open(BASE_DIR/config['metadata_path'],'r') as meta_file:\n",
    "    meta_data=json.load(meta_file)\n",
    "    format=meta_data['distribution'][0]['format']\n",
    "    data_url=meta_data['distribution'][0]['downloadURL']\n",
    "\n",
    "data_url\n",
    "\n",
    "\n"
   ]
  },
  {
   "cell_type": "markdown",
   "id": "cef81313",
   "metadata": {},
   "source": [
    "### API call to download the file"
   ]
  },
  {
   "cell_type": "code",
   "execution_count": 60,
   "id": "163a7567",
   "metadata": {},
   "outputs": [
    {
     "name": "stdout",
     "output_type": "stream",
     "text": [
      "✅ File downloaded successfully. Saved raw CSV at /Users/vaishnavi/Desktop/Research/DataEngineering/health-insurance-rate-data-etl/data/bronze/Rate_PUF.csv\n"
     ]
    }
   ],
   "source": [
    "# make API call \n",
    "data_response = request_utils.make_api_call(data_url)\n",
    "\n",
    "#Extract filename from URL\n",
    "parsed_url = urlparse(data_url)\n",
    "downloaded_file_name = os.path.basename(parsed_url.path)  # gets 'Rate_PUF.csv'\n",
    "\n",
    "# Step 3:Save initial Raw file\n",
    "if data_response.status_code == 200:\n",
    "    raw_csv_path = os.path.join(BASE_DIR,config[\"download_dir\"], downloaded_file_name)\n",
    "    with open(raw_csv_path, \"wb\") as f:\n",
    "        f.write(data_response.content)\n",
    "    print(f\"✅ File downloaded successfully. Saved raw CSV at {raw_csv_path}\")\n",
    "else:\n",
    "    raise Exception(f\"❌ Failed to download file. Status: {data_response.status_code}\")\n"
   ]
  }
 ],
 "metadata": {
  "kernelspec": {
   "display_name": "hinsurance-etl",
   "language": "python",
   "name": "python3"
  },
  "language_info": {
   "codemirror_mode": {
    "name": "ipython",
    "version": 3
   },
   "file_extension": ".py",
   "mimetype": "text/x-python",
   "name": "python",
   "nbconvert_exporter": "python",
   "pygments_lexer": "ipython3",
   "version": "3.10.18"
  }
 },
 "nbformat": 4,
 "nbformat_minor": 5
}
